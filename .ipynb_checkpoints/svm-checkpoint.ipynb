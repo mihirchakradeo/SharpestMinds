{
 "cells": [
  {
   "cell_type": "markdown",
   "metadata": {},
   "source": [
    "## Using Multiclass SVM with Stochastic Gradient Descent to Detect Human Actions"
   ]
  },
  {
   "cell_type": "code",
   "execution_count": 1,
   "metadata": {},
   "outputs": [],
   "source": [
    "import numpy as np\n",
    "import scipy.io as spio"
   ]
  },
  {
   "cell_type": "markdown",
   "metadata": {},
   "source": [
    "## Importing the Data"
   ]
  },
  {
   "cell_type": "code",
   "execution_count": 40,
   "metadata": {},
   "outputs": [
    {
     "name": "stdout",
     "output_type": "stream",
     "text": [
      "(4096, 7930)\n",
      "(7930, 1)\n"
     ]
    }
   ],
   "source": [
    "mat = spio.loadmat('/home/mihir/Downloads/q3_2_data.mat', squeeze_me=True)\n",
    "trD = np.array(mat['trD'])\n",
    "trLb = np.array(mat['trLb'])\n",
    "valD = np.array(mat['valD'])\n",
    "valLb = np.array(mat['valLb'])\n",
    "d, n = trD.shape\n",
    "trLb = trLb.reshape(n,1)\n",
    "print trD.shape\n",
    "print trLb.shape"
   ]
  },
  {
   "cell_type": "markdown",
   "metadata": {},
   "source": [
    "## Stochastic Gradient Descent Function"
   ]
  },
  {
   "cell_type": "code",
   "execution_count": 54,
   "metadata": {},
   "outputs": [],
   "source": [
    "def SGD(X, Y):\n",
    "    d, n = X.shape\n",
    "    k = len(np.unique(Y))\n",
    "    max_epoch = 40\n",
    "    eta_0 = 1\n",
    "    eta_1 = 100\n",
    "    eta = 0\n",
    "    C = 0.1\n",
    "    W = np.zeros((d,k))\n",
    "    loss_per_epoch = []\n",
    "    \n",
    "    for epoch in range(max_epoch):\n",
    "        \n",
    "        loss_per_iteration = 0\n",
    "        eta = 1.0*eta_0/(eta_1+epoch)\n",
    "        # Create random indices for stochasticity\n",
    "        temp = np.random.permutation(n)\n",
    "        \n",
    "        for i in temp:\n",
    "            loss_term_1 = 0\n",
    "            yi_hat_arr = []\n",
    "            \n",
    "            # Calculating yi\n",
    "            yi = Y[i]\n",
    "            \n",
    "            # Calculating yi_hat\n",
    "            for j in range(k):\n",
    "                if j == yi:\n",
    "                    yi_hat_arr.append(float('-inf'))\n",
    "                    continue\n",
    "                else:\n",
    "                    yi_hat_temp = W[:][j].T*X[:][i]\n",
    "                    yi_hat_arr.append(yi_hat_temp)\n",
    "            \n",
    "            yi_hat = np.argmax(yi_hat_arr)\n",
    "            \n",
    "            # Check if yi and yi_hat are same\n",
    "            if yi == yi_hat:\n",
    "                print \"Same\"\n",
    "            \n",
    "            derivative = (1/n)*W;\n",
    "            \n",
    "            if W[:][yi_hat].T*X[:][i] - W[:][yi].T*X[:][i] + 1 > 0:\n",
    "                derivative[:][yi] = derivative[:][yi] - C*X[:][i]\n",
    "                derivative[:][yi_hat] = derivative[:][yi_hat] + C*X[:][i]\n",
    "                \n",
    "            W = W - eta*derivative\n",
    "            \n",
    "            # Calculating the Loss\n",
    "            for j in range(k):\n",
    "                loss_term_1 += np.linalg.norm(W[:][j], 2)**2\n",
    "            loss_term_1 = (1.0/(2*n))*loss_term_1\n",
    "            second_term = C*max((W[:][yi_hat].T*X[:][i] - W[:][yi].T*X[:][i] + 1), 0)\n",
    "            loss_per_iteration += loss_term1 + second_term\n",
    "        \n",
    "        loss_per_epoch.append(loss_per_iteration)\n",
    "    \n",
    "    return W, loss_per_epoch\n",
    "                "
   ]
  },
  {
   "cell_type": "code",
   "execution_count": 55,
   "metadata": {},
   "outputs": [
    {
     "name": "stdout",
     "output_type": "stream",
     "text": [
      "(10,)\n"
     ]
    },
    {
     "ename": "ValueError",
     "evalue": "operands could not be broadcast together with shapes (10,) (7930,) ",
     "output_type": "error",
     "traceback": [
      "\u001b[0;31m---------------------------------------------------------------------------\u001b[0m",
      "\u001b[0;31mValueError\u001b[0m                                Traceback (most recent call last)",
      "\u001b[0;32m<ipython-input-55-3c3cdb7e88b9>\u001b[0m in \u001b[0;36m<module>\u001b[0;34m()\u001b[0m\n\u001b[0;32m----> 1\u001b[0;31m \u001b[0mW\u001b[0m\u001b[0;34m,\u001b[0m \u001b[0mloss_per_epoch\u001b[0m \u001b[0;34m=\u001b[0m \u001b[0mSGD\u001b[0m\u001b[0;34m(\u001b[0m\u001b[0mtrD\u001b[0m\u001b[0;34m,\u001b[0m \u001b[0mtrLb\u001b[0m\u001b[0;34m)\u001b[0m\u001b[0;34m\u001b[0m\u001b[0m\n\u001b[0m",
      "\u001b[0;32m<ipython-input-54-91e5702f4753>\u001b[0m in \u001b[0;36mSGD\u001b[0;34m(X, Y)\u001b[0m\n\u001b[1;32m     31\u001b[0m                 \u001b[0;32melse\u001b[0m\u001b[0;34m:\u001b[0m\u001b[0;34m\u001b[0m\u001b[0m\n\u001b[1;32m     32\u001b[0m                     \u001b[0;32mprint\u001b[0m \u001b[0mW\u001b[0m\u001b[0;34m[\u001b[0m\u001b[0;34m:\u001b[0m\u001b[0;34m]\u001b[0m\u001b[0;34m[\u001b[0m\u001b[0mj\u001b[0m\u001b[0;34m]\u001b[0m\u001b[0;34m.\u001b[0m\u001b[0mshape\u001b[0m\u001b[0;34m\u001b[0m\u001b[0m\n\u001b[0;32m---> 33\u001b[0;31m                     \u001b[0myi_hat_temp\u001b[0m \u001b[0;34m=\u001b[0m \u001b[0mW\u001b[0m\u001b[0;34m[\u001b[0m\u001b[0;34m:\u001b[0m\u001b[0;34m]\u001b[0m\u001b[0;34m[\u001b[0m\u001b[0mj\u001b[0m\u001b[0;34m]\u001b[0m\u001b[0;34m.\u001b[0m\u001b[0mT\u001b[0m\u001b[0;34m*\u001b[0m\u001b[0mX\u001b[0m\u001b[0;34m[\u001b[0m\u001b[0;34m:\u001b[0m\u001b[0;34m]\u001b[0m\u001b[0;34m[\u001b[0m\u001b[0mi\u001b[0m\u001b[0;34m]\u001b[0m\u001b[0;34m\u001b[0m\u001b[0m\n\u001b[0m\u001b[1;32m     34\u001b[0m                     \u001b[0myi_hat_arr\u001b[0m\u001b[0;34m.\u001b[0m\u001b[0mappend\u001b[0m\u001b[0;34m(\u001b[0m\u001b[0myi_hat_temp\u001b[0m\u001b[0;34m)\u001b[0m\u001b[0;34m\u001b[0m\u001b[0m\n\u001b[1;32m     35\u001b[0m \u001b[0;34m\u001b[0m\u001b[0m\n",
      "\u001b[0;31mValueError\u001b[0m: operands could not be broadcast together with shapes (10,) (7930,) "
     ]
    }
   ],
   "source": [
    "W, loss_per_epoch = SGD(trD, trLb)"
   ]
  },
  {
   "cell_type": "code",
   "execution_count": null,
   "metadata": {},
   "outputs": [],
   "source": []
  }
 ],
 "metadata": {
  "kernelspec": {
   "display_name": "Python 2",
   "language": "python",
   "name": "python2"
  },
  "language_info": {
   "codemirror_mode": {
    "name": "ipython",
    "version": 2
   },
   "file_extension": ".py",
   "mimetype": "text/x-python",
   "name": "python",
   "nbconvert_exporter": "python",
   "pygments_lexer": "ipython2",
   "version": "2.7.12"
  }
 },
 "nbformat": 4,
 "nbformat_minor": 2
}
