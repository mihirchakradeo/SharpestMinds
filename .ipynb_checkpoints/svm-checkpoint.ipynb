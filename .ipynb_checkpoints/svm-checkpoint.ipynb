{
 "cells": [
  {
   "cell_type": "markdown",
   "metadata": {},
   "source": [
    "## Using Multiclass SVM to Detect Human Actions"
   ]
  },
  {
   "cell_type": "code",
   "execution_count": 2,
   "metadata": {},
   "outputs": [],
   "source": [
    "import numpy as np\n",
    "import scipy.io as spio"
   ]
  },
  {
   "cell_type": "markdown",
   "metadata": {},
   "source": [
    "## Importing the Data"
   ]
  },
  {
   "cell_type": "code",
   "execution_count": 88,
   "metadata": {},
   "outputs": [
    {
     "name": "stdout",
     "output_type": "stream",
     "text": [
      "(4096, 7930)\n",
      "(7930, 1)\n"
     ]
    }
   ],
   "source": [
    "mat = spio.loadmat('/home/mihir/Downloads/q3_2_data.mat', squeeze_me=True)\n",
    "trD = np.matrix(mat['trD'])\n",
    "trLb = np.array(mat['trLb'])\n",
    "valD = np.array(mat['valD'])\n",
    "valLb = np.array(mat['valLb'])\n",
    "d, n = trD.shape\n",
    "trLb = trLb.reshape(n,1)\n",
    "print trD.shape\n",
    "print trLb.shape"
   ]
  },
  {
   "cell_type": "markdown",
   "metadata": {},
   "source": [
    "## Sklearn SVM"
   ]
  },
  {
   "cell_type": "code",
   "execution_count": 134,
   "metadata": {},
   "outputs": [
    {
     "name": "stdout",
     "output_type": "stream",
     "text": [
      "(4096, 7930) (7930, 1)\n",
      "[LibLinear]"
     ]
    },
    {
     "data": {
      "text/plain": [
       "0.8075471698113208"
      ]
     },
     "execution_count": 134,
     "metadata": {},
     "output_type": "execute_result"
    }
   ],
   "source": [
    "from sklearn import svm\n",
    "import sys, StringIO\n",
    "from sklearn.metrics import accuracy_score\n",
    "from sklearn.metrics import mean_squared_error\n",
    "\n",
    "clf = svm.LinearSVC(verbose=1, loss=\"hinge\", max_iter=2000, C=10)\n",
    "print trD.shape, trLb.shape\n",
    "clf.fit(trD.T, trLb)\n",
    "res = clf.predict(valD.T)\n",
    "res = res.reshape((res.shape[0],1))\n",
    "valLb = valLb.reshape((valLb.shape[0],1))\n",
    "mean_squared_error(valLb, res)\n",
    "accuracy_score(valLb, res)"
   ]
  },
  {
   "cell_type": "code",
   "execution_count": null,
   "metadata": {},
   "outputs": [],
   "source": []
  }
 ],
 "metadata": {
  "kernelspec": {
   "display_name": "Python 2",
   "language": "python",
   "name": "python2"
  },
  "language_info": {
   "codemirror_mode": {
    "name": "ipython",
    "version": 2
   },
   "file_extension": ".py",
   "mimetype": "text/x-python",
   "name": "python",
   "nbconvert_exporter": "python",
   "pygments_lexer": "ipython2",
   "version": "2.7.12"
  }
 },
 "nbformat": 4,
 "nbformat_minor": 2
}
