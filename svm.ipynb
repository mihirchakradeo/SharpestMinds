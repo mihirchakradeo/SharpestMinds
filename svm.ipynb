{
 "cells": [
  {
   "cell_type": "markdown",
   "metadata": {},
   "source": [
    "## Using Multiclass SVM with Stochastic Gradient Descent to Detect Human Actions"
   ]
  },
  {
   "cell_type": "code",
   "execution_count": 1,
   "metadata": {},
   "outputs": [],
   "source": [
    "import numpy as np\n",
    "import scipy.io as spio"
   ]
  },
  {
   "cell_type": "markdown",
   "metadata": {},
   "source": [
    "## Importing the Data"
   ]
  },
  {
   "cell_type": "code",
   "execution_count": 40,
   "metadata": {},
   "outputs": [
    {
     "name": "stdout",
     "output_type": "stream",
     "text": [
      "(4096, 7930)\n",
      "(7930, 1)\n"
     ]
    }
   ],
   "source": [
    "mat = spio.loadmat('/home/mihir/Downloads/q3_2_data.mat', squeeze_me=True)\n",
    "trD = np.array(mat['trD'])\n",
    "trLb = np.array(mat['trLb'])\n",
    "valD = np.array(mat['valD'])\n",
    "valLb = np.array(mat['valLb'])\n",
    "d, n = trD.shape\n",
    "trLb = trLb.reshape(n,1)\n",
    "print trD.shape\n",
    "print trLb.shape"
   ]
  },
  {
   "cell_type": "markdown",
   "metadata": {},
   "source": [
    "## Stochastic Gradient Descent Function"
   ]
  },
  {
   "cell_type": "code",
   "execution_count": 70,
   "metadata": {},
   "outputs": [],
   "source": [
    "def SGD(X, Y):\n",
    "    d, n = X.shape\n",
    "    k = len(np.unique(Y))\n",
    "    max_epoch = 40\n",
    "    eta_0 = 1\n",
    "    eta_1 = 100\n",
    "    eta = 0\n",
    "    C = 0.1\n",
    "    W = np.zeros((d,k))\n",
    "    loss_per_epoch = []\n",
    "    \n",
    "    for epoch in range(max_epoch):\n",
    "        \n",
    "        loss_per_iteration = 0\n",
    "        eta = 1.0*eta_0/(eta_1+epoch)\n",
    "        # Create random indices for stochasticity\n",
    "        temp = np.random.permutation(n)\n",
    "        \n",
    "        for i in temp:\n",
    "            loss_term_1 = 0\n",
    "            yi_hat_arr = []\n",
    "            \n",
    "            # Calculating yi\n",
    "            yi = Y[i]\n",
    "            \n",
    "            # Calculating yi_hat\n",
    "            for j in range(k):\n",
    "                if j == yi:\n",
    "                    yi_hat_arr.append(float('-inf'))\n",
    "                    continue\n",
    "                else:\n",
    "#                     print X[:][i].shape\n",
    "                    yi_hat_temp = (W[:][j].reshape(k,1)).T*(X[:][i].reshape(n,1))\n",
    "#                     print yi_hat_temp,yi_hat_temp.shape\n",
    "                    yi_hat_arr.append(yi_hat_temp)\n",
    "            print yi_hat_arr\n",
    "            yi_hat = np.argmax(yi_hat_arr)\n",
    "            \n",
    "            # Check if yi and yi_hat are same\n",
    "            if yi == yi_hat:\n",
    "                print \"Same\"\n",
    "            \n",
    "            derivative = (1/n)*W;\n",
    "            \n",
    "            if W[:][yi_hat].T*X[:][i] - W[:][yi].T*X[:][i] + 1 > 0:\n",
    "                derivative[:][yi] = derivative[:][yi] - C*X[:][i]\n",
    "                derivative[:][yi_hat] = derivative[:][yi_hat] + C*X[:][i]\n",
    "                \n",
    "            W = W - eta*derivative\n",
    "            \n",
    "            # Calculating the Loss\n",
    "            for j in range(k):\n",
    "                loss_term_1 += np.linalg.norm(W[:][j], 2)**2\n",
    "            loss_term_1 = (1.0/(2*n))*loss_term_1\n",
    "            second_term = C*max((W[:][yi_hat].T*X[:][i] - W[:][yi].T*X[:][i] + 1), 0)\n",
    "            loss_per_iteration += loss_term1 + second_term\n",
    "        \n",
    "        loss_per_epoch.append(loss_per_iteration)\n",
    "    \n",
    "    return W, loss_per_epoch\n",
    "                "
   ]
  },
  {
   "cell_type": "code",
   "execution_count": 73,
   "metadata": {},
   "outputs": [
    {
     "name": "stdout",
     "output_type": "stream",
     "text": [
      "[array([[-0., -0., -0., ..., -0., -0., -0.],\n",
      "       [-0., -0., -0., ..., -0., -0., -0.],\n",
      "       [-0., -0., -0., ..., -0., -0., -0.],\n",
      "       ...,\n",
      "       [-0., -0., -0., ..., -0., -0., -0.],\n",
      "       [-0., -0., -0., ..., -0., -0., -0.],\n",
      "       [-0., -0., -0., ..., -0., -0., -0.]]), array([[-0., -0., -0., ..., -0., -0., -0.],\n",
      "       [-0., -0., -0., ..., -0., -0., -0.],\n",
      "       [-0., -0., -0., ..., -0., -0., -0.],\n",
      "       ...,\n",
      "       [-0., -0., -0., ..., -0., -0., -0.],\n",
      "       [-0., -0., -0., ..., -0., -0., -0.],\n",
      "       [-0., -0., -0., ..., -0., -0., -0.]]), array([[-0., -0., -0., ..., -0., -0., -0.],\n",
      "       [-0., -0., -0., ..., -0., -0., -0.],\n",
      "       [-0., -0., -0., ..., -0., -0., -0.],\n",
      "       ...,\n",
      "       [-0., -0., -0., ..., -0., -0., -0.],\n",
      "       [-0., -0., -0., ..., -0., -0., -0.],\n",
      "       [-0., -0., -0., ..., -0., -0., -0.]]), -inf, array([[-0., -0., -0., ..., -0., -0., -0.],\n",
      "       [-0., -0., -0., ..., -0., -0., -0.],\n",
      "       [-0., -0., -0., ..., -0., -0., -0.],\n",
      "       ...,\n",
      "       [-0., -0., -0., ..., -0., -0., -0.],\n",
      "       [-0., -0., -0., ..., -0., -0., -0.],\n",
      "       [-0., -0., -0., ..., -0., -0., -0.]]), array([[-0., -0., -0., ..., -0., -0., -0.],\n",
      "       [-0., -0., -0., ..., -0., -0., -0.],\n",
      "       [-0., -0., -0., ..., -0., -0., -0.],\n",
      "       ...,\n",
      "       [-0., -0., -0., ..., -0., -0., -0.],\n",
      "       [-0., -0., -0., ..., -0., -0., -0.],\n",
      "       [-0., -0., -0., ..., -0., -0., -0.]]), array([[-0., -0., -0., ..., -0., -0., -0.],\n",
      "       [-0., -0., -0., ..., -0., -0., -0.],\n",
      "       [-0., -0., -0., ..., -0., -0., -0.],\n",
      "       ...,\n",
      "       [-0., -0., -0., ..., -0., -0., -0.],\n",
      "       [-0., -0., -0., ..., -0., -0., -0.],\n",
      "       [-0., -0., -0., ..., -0., -0., -0.]]), array([[-0., -0., -0., ..., -0., -0., -0.],\n",
      "       [-0., -0., -0., ..., -0., -0., -0.],\n",
      "       [-0., -0., -0., ..., -0., -0., -0.],\n",
      "       ...,\n",
      "       [-0., -0., -0., ..., -0., -0., -0.],\n",
      "       [-0., -0., -0., ..., -0., -0., -0.],\n",
      "       [-0., -0., -0., ..., -0., -0., -0.]]), array([[-0., -0., -0., ..., -0., -0., -0.],\n",
      "       [-0., -0., -0., ..., -0., -0., -0.],\n",
      "       [-0., -0., -0., ..., -0., -0., -0.],\n",
      "       ...,\n",
      "       [-0., -0., -0., ..., -0., -0., -0.],\n",
      "       [-0., -0., -0., ..., -0., -0., -0.],\n",
      "       [-0., -0., -0., ..., -0., -0., -0.]]), array([[-0., -0., -0., ..., -0., -0., -0.],\n",
      "       [-0., -0., -0., ..., -0., -0., -0.],\n",
      "       [-0., -0., -0., ..., -0., -0., -0.],\n",
      "       ...,\n",
      "       [-0., -0., -0., ..., -0., -0., -0.],\n",
      "       [-0., -0., -0., ..., -0., -0., -0.],\n",
      "       [-0., -0., -0., ..., -0., -0., -0.]])]\n"
     ]
    },
    {
     "ename": "ValueError",
     "evalue": "The truth value of an array with more than one element is ambiguous. Use a.any() or a.all()",
     "output_type": "error",
     "traceback": [
      "\u001b[0;31m---------------------------------------------------------------------------\u001b[0m",
      "\u001b[0;31mValueError\u001b[0m                                Traceback (most recent call last)",
      "\u001b[0;32m<ipython-input-73-3c3cdb7e88b9>\u001b[0m in \u001b[0;36m<module>\u001b[0;34m()\u001b[0m\n\u001b[0;32m----> 1\u001b[0;31m \u001b[0mW\u001b[0m\u001b[0;34m,\u001b[0m \u001b[0mloss_per_epoch\u001b[0m \u001b[0;34m=\u001b[0m \u001b[0mSGD\u001b[0m\u001b[0;34m(\u001b[0m\u001b[0mtrD\u001b[0m\u001b[0;34m,\u001b[0m \u001b[0mtrLb\u001b[0m\u001b[0;34m)\u001b[0m\u001b[0;34m\u001b[0m\u001b[0m\n\u001b[0m",
      "\u001b[0;32m<ipython-input-70-05c213cf7bdd>\u001b[0m in \u001b[0;36mSGD\u001b[0;34m(X, Y)\u001b[0m\n\u001b[1;32m     35\u001b[0m                     \u001b[0myi_hat_arr\u001b[0m\u001b[0;34m.\u001b[0m\u001b[0mappend\u001b[0m\u001b[0;34m(\u001b[0m\u001b[0myi_hat_temp\u001b[0m\u001b[0;34m)\u001b[0m\u001b[0;34m\u001b[0m\u001b[0m\n\u001b[1;32m     36\u001b[0m             \u001b[0;32mprint\u001b[0m \u001b[0myi_hat_arr\u001b[0m\u001b[0;34m\u001b[0m\u001b[0m\n\u001b[0;32m---> 37\u001b[0;31m             \u001b[0myi_hat\u001b[0m \u001b[0;34m=\u001b[0m \u001b[0mnp\u001b[0m\u001b[0;34m.\u001b[0m\u001b[0margmax\u001b[0m\u001b[0;34m(\u001b[0m\u001b[0myi_hat_arr\u001b[0m\u001b[0;34m)\u001b[0m\u001b[0;34m\u001b[0m\u001b[0m\n\u001b[0m\u001b[1;32m     38\u001b[0m \u001b[0;34m\u001b[0m\u001b[0m\n\u001b[1;32m     39\u001b[0m             \u001b[0;31m# Check if yi and yi_hat are same\u001b[0m\u001b[0;34m\u001b[0m\u001b[0;34m\u001b[0m\u001b[0m\n",
      "\u001b[0;32m/usr/local/lib/python2.7/dist-packages/numpy/core/fromnumeric.pyc\u001b[0m in \u001b[0;36margmax\u001b[0;34m(a, axis, out)\u001b[0m\n\u001b[1;32m   1002\u001b[0m \u001b[0;34m\u001b[0m\u001b[0m\n\u001b[1;32m   1003\u001b[0m     \"\"\"\n\u001b[0;32m-> 1004\u001b[0;31m     \u001b[0;32mreturn\u001b[0m \u001b[0m_wrapfunc\u001b[0m\u001b[0;34m(\u001b[0m\u001b[0ma\u001b[0m\u001b[0;34m,\u001b[0m \u001b[0;34m'argmax'\u001b[0m\u001b[0;34m,\u001b[0m \u001b[0maxis\u001b[0m\u001b[0;34m=\u001b[0m\u001b[0maxis\u001b[0m\u001b[0;34m,\u001b[0m \u001b[0mout\u001b[0m\u001b[0;34m=\u001b[0m\u001b[0mout\u001b[0m\u001b[0;34m)\u001b[0m\u001b[0;34m\u001b[0m\u001b[0m\n\u001b[0m\u001b[1;32m   1005\u001b[0m \u001b[0;34m\u001b[0m\u001b[0m\n\u001b[1;32m   1006\u001b[0m \u001b[0;34m\u001b[0m\u001b[0m\n",
      "\u001b[0;32m/usr/local/lib/python2.7/dist-packages/numpy/core/fromnumeric.pyc\u001b[0m in \u001b[0;36m_wrapfunc\u001b[0;34m(obj, method, *args, **kwds)\u001b[0m\n\u001b[1;32m     60\u001b[0m     \u001b[0;31m# a downstream library like 'pandas'.\u001b[0m\u001b[0;34m\u001b[0m\u001b[0;34m\u001b[0m\u001b[0m\n\u001b[1;32m     61\u001b[0m     \u001b[0;32mexcept\u001b[0m \u001b[0;34m(\u001b[0m\u001b[0mAttributeError\u001b[0m\u001b[0;34m,\u001b[0m \u001b[0mTypeError\u001b[0m\u001b[0;34m)\u001b[0m\u001b[0;34m:\u001b[0m\u001b[0;34m\u001b[0m\u001b[0m\n\u001b[0;32m---> 62\u001b[0;31m         \u001b[0;32mreturn\u001b[0m \u001b[0m_wrapit\u001b[0m\u001b[0;34m(\u001b[0m\u001b[0mobj\u001b[0m\u001b[0;34m,\u001b[0m \u001b[0mmethod\u001b[0m\u001b[0;34m,\u001b[0m \u001b[0;34m*\u001b[0m\u001b[0margs\u001b[0m\u001b[0;34m,\u001b[0m \u001b[0;34m**\u001b[0m\u001b[0mkwds\u001b[0m\u001b[0;34m)\u001b[0m\u001b[0;34m\u001b[0m\u001b[0m\n\u001b[0m\u001b[1;32m     63\u001b[0m \u001b[0;34m\u001b[0m\u001b[0m\n\u001b[1;32m     64\u001b[0m \u001b[0;34m\u001b[0m\u001b[0m\n",
      "\u001b[0;32m/usr/local/lib/python2.7/dist-packages/numpy/core/fromnumeric.pyc\u001b[0m in \u001b[0;36m_wrapit\u001b[0;34m(obj, method, *args, **kwds)\u001b[0m\n\u001b[1;32m     40\u001b[0m     \u001b[0;32mexcept\u001b[0m \u001b[0mAttributeError\u001b[0m\u001b[0;34m:\u001b[0m\u001b[0;34m\u001b[0m\u001b[0m\n\u001b[1;32m     41\u001b[0m         \u001b[0mwrap\u001b[0m \u001b[0;34m=\u001b[0m \u001b[0mNone\u001b[0m\u001b[0;34m\u001b[0m\u001b[0m\n\u001b[0;32m---> 42\u001b[0;31m     \u001b[0mresult\u001b[0m \u001b[0;34m=\u001b[0m \u001b[0mgetattr\u001b[0m\u001b[0;34m(\u001b[0m\u001b[0masarray\u001b[0m\u001b[0;34m(\u001b[0m\u001b[0mobj\u001b[0m\u001b[0;34m)\u001b[0m\u001b[0;34m,\u001b[0m \u001b[0mmethod\u001b[0m\u001b[0;34m)\u001b[0m\u001b[0;34m(\u001b[0m\u001b[0;34m*\u001b[0m\u001b[0margs\u001b[0m\u001b[0;34m,\u001b[0m \u001b[0;34m**\u001b[0m\u001b[0mkwds\u001b[0m\u001b[0;34m)\u001b[0m\u001b[0;34m\u001b[0m\u001b[0m\n\u001b[0m\u001b[1;32m     43\u001b[0m     \u001b[0;32mif\u001b[0m \u001b[0mwrap\u001b[0m\u001b[0;34m:\u001b[0m\u001b[0;34m\u001b[0m\u001b[0m\n\u001b[1;32m     44\u001b[0m         \u001b[0;32mif\u001b[0m \u001b[0;32mnot\u001b[0m \u001b[0misinstance\u001b[0m\u001b[0;34m(\u001b[0m\u001b[0mresult\u001b[0m\u001b[0;34m,\u001b[0m \u001b[0mmu\u001b[0m\u001b[0;34m.\u001b[0m\u001b[0mndarray\u001b[0m\u001b[0;34m)\u001b[0m\u001b[0;34m:\u001b[0m\u001b[0;34m\u001b[0m\u001b[0m\n",
      "\u001b[0;31mValueError\u001b[0m: The truth value of an array with more than one element is ambiguous. Use a.any() or a.all()"
     ]
    }
   ],
   "source": [
    "W, loss_per_epoch = SGD(trD, trLb)"
   ]
  },
  {
   "cell_type": "code",
   "execution_count": null,
   "metadata": {},
   "outputs": [],
   "source": []
  }
 ],
 "metadata": {
  "kernelspec": {
   "display_name": "Python 2",
   "language": "python",
   "name": "python2"
  },
  "language_info": {
   "codemirror_mode": {
    "name": "ipython",
    "version": 2
   },
   "file_extension": ".py",
   "mimetype": "text/x-python",
   "name": "python",
   "nbconvert_exporter": "python",
   "pygments_lexer": "ipython2",
   "version": "2.7.12"
  }
 },
 "nbformat": 4,
 "nbformat_minor": 2
}
